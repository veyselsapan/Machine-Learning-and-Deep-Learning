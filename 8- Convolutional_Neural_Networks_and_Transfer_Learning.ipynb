{
  "nbformat": 4,
  "nbformat_minor": 0,
  "metadata": {
    "colab": {
      "provenance": []
    },
    "kernelspec": {
      "name": "python3",
      "display_name": "Python 3"
    },
    "language_info": {
      "name": "python"
    },
    "widgets": {
      "application/vnd.jupyter.widget-state+json": {
        "65241a5f9b46437c8bd22bb538a1183e": {
          "model_module": "@jupyter-widgets/controls",
          "model_name": "HBoxModel",
          "model_module_version": "1.5.0",
          "state": {
            "_dom_classes": [],
            "_model_module": "@jupyter-widgets/controls",
            "_model_module_version": "1.5.0",
            "_model_name": "HBoxModel",
            "_view_count": null,
            "_view_module": "@jupyter-widgets/controls",
            "_view_module_version": "1.5.0",
            "_view_name": "HBoxView",
            "box_style": "",
            "children": [
              "IPY_MODEL_7fb310c84425451794c624129f22f36b",
              "IPY_MODEL_b64376edc793491eb1acdad389a91741",
              "IPY_MODEL_32b7578771544e0e9dfaad82827ce87e"
            ],
            "layout": "IPY_MODEL_ba63c47cd4b742dba24a8968881210c8"
          }
        },
        "7fb310c84425451794c624129f22f36b": {
          "model_module": "@jupyter-widgets/controls",
          "model_name": "HTMLModel",
          "model_module_version": "1.5.0",
          "state": {
            "_dom_classes": [],
            "_model_module": "@jupyter-widgets/controls",
            "_model_module_version": "1.5.0",
            "_model_name": "HTMLModel",
            "_view_count": null,
            "_view_module": "@jupyter-widgets/controls",
            "_view_module_version": "1.5.0",
            "_view_name": "HTMLView",
            "description": "",
            "description_tooltip": null,
            "layout": "IPY_MODEL_4e9ac32fba384fa19a9826256461a336",
            "placeholder": "​",
            "style": "IPY_MODEL_c56e264ff3224f67baa0c9d6ee22f885",
            "value": "Dl Completed...: 100%"
          }
        },
        "b64376edc793491eb1acdad389a91741": {
          "model_module": "@jupyter-widgets/controls",
          "model_name": "FloatProgressModel",
          "model_module_version": "1.5.0",
          "state": {
            "_dom_classes": [],
            "_model_module": "@jupyter-widgets/controls",
            "_model_module_version": "1.5.0",
            "_model_name": "FloatProgressModel",
            "_view_count": null,
            "_view_module": "@jupyter-widgets/controls",
            "_view_module_version": "1.5.0",
            "_view_name": "ProgressView",
            "bar_style": "success",
            "description": "",
            "description_tooltip": null,
            "layout": "IPY_MODEL_51fa8387bf51441cba2808b5b739470b",
            "max": 5,
            "min": 0,
            "orientation": "horizontal",
            "style": "IPY_MODEL_b4785a303b9745bd9537013a37c86bb1",
            "value": 5
          }
        },
        "32b7578771544e0e9dfaad82827ce87e": {
          "model_module": "@jupyter-widgets/controls",
          "model_name": "HTMLModel",
          "model_module_version": "1.5.0",
          "state": {
            "_dom_classes": [],
            "_model_module": "@jupyter-widgets/controls",
            "_model_module_version": "1.5.0",
            "_model_name": "HTMLModel",
            "_view_count": null,
            "_view_module": "@jupyter-widgets/controls",
            "_view_module_version": "1.5.0",
            "_view_name": "HTMLView",
            "description": "",
            "description_tooltip": null,
            "layout": "IPY_MODEL_250c154b9c8e425d84cbb4d07fd56531",
            "placeholder": "​",
            "style": "IPY_MODEL_f5b74e9a9f8945d197332e193a412f72",
            "value": " 5/5 [00:02&lt;00:00,  1.72 file/s]"
          }
        },
        "ba63c47cd4b742dba24a8968881210c8": {
          "model_module": "@jupyter-widgets/base",
          "model_name": "LayoutModel",
          "model_module_version": "1.2.0",
          "state": {
            "_model_module": "@jupyter-widgets/base",
            "_model_module_version": "1.2.0",
            "_model_name": "LayoutModel",
            "_view_count": null,
            "_view_module": "@jupyter-widgets/base",
            "_view_module_version": "1.2.0",
            "_view_name": "LayoutView",
            "align_content": null,
            "align_items": null,
            "align_self": null,
            "border": null,
            "bottom": null,
            "display": null,
            "flex": null,
            "flex_flow": null,
            "grid_area": null,
            "grid_auto_columns": null,
            "grid_auto_flow": null,
            "grid_auto_rows": null,
            "grid_column": null,
            "grid_gap": null,
            "grid_row": null,
            "grid_template_areas": null,
            "grid_template_columns": null,
            "grid_template_rows": null,
            "height": null,
            "justify_content": null,
            "justify_items": null,
            "left": null,
            "margin": null,
            "max_height": null,
            "max_width": null,
            "min_height": null,
            "min_width": null,
            "object_fit": null,
            "object_position": null,
            "order": null,
            "overflow": null,
            "overflow_x": null,
            "overflow_y": null,
            "padding": null,
            "right": null,
            "top": null,
            "visibility": null,
            "width": null
          }
        },
        "4e9ac32fba384fa19a9826256461a336": {
          "model_module": "@jupyter-widgets/base",
          "model_name": "LayoutModel",
          "model_module_version": "1.2.0",
          "state": {
            "_model_module": "@jupyter-widgets/base",
            "_model_module_version": "1.2.0",
            "_model_name": "LayoutModel",
            "_view_count": null,
            "_view_module": "@jupyter-widgets/base",
            "_view_module_version": "1.2.0",
            "_view_name": "LayoutView",
            "align_content": null,
            "align_items": null,
            "align_self": null,
            "border": null,
            "bottom": null,
            "display": null,
            "flex": null,
            "flex_flow": null,
            "grid_area": null,
            "grid_auto_columns": null,
            "grid_auto_flow": null,
            "grid_auto_rows": null,
            "grid_column": null,
            "grid_gap": null,
            "grid_row": null,
            "grid_template_areas": null,
            "grid_template_columns": null,
            "grid_template_rows": null,
            "height": null,
            "justify_content": null,
            "justify_items": null,
            "left": null,
            "margin": null,
            "max_height": null,
            "max_width": null,
            "min_height": null,
            "min_width": null,
            "object_fit": null,
            "object_position": null,
            "order": null,
            "overflow": null,
            "overflow_x": null,
            "overflow_y": null,
            "padding": null,
            "right": null,
            "top": null,
            "visibility": null,
            "width": null
          }
        },
        "c56e264ff3224f67baa0c9d6ee22f885": {
          "model_module": "@jupyter-widgets/controls",
          "model_name": "DescriptionStyleModel",
          "model_module_version": "1.5.0",
          "state": {
            "_model_module": "@jupyter-widgets/controls",
            "_model_module_version": "1.5.0",
            "_model_name": "DescriptionStyleModel",
            "_view_count": null,
            "_view_module": "@jupyter-widgets/base",
            "_view_module_version": "1.2.0",
            "_view_name": "StyleView",
            "description_width": ""
          }
        },
        "51fa8387bf51441cba2808b5b739470b": {
          "model_module": "@jupyter-widgets/base",
          "model_name": "LayoutModel",
          "model_module_version": "1.2.0",
          "state": {
            "_model_module": "@jupyter-widgets/base",
            "_model_module_version": "1.2.0",
            "_model_name": "LayoutModel",
            "_view_count": null,
            "_view_module": "@jupyter-widgets/base",
            "_view_module_version": "1.2.0",
            "_view_name": "LayoutView",
            "align_content": null,
            "align_items": null,
            "align_self": null,
            "border": null,
            "bottom": null,
            "display": null,
            "flex": null,
            "flex_flow": null,
            "grid_area": null,
            "grid_auto_columns": null,
            "grid_auto_flow": null,
            "grid_auto_rows": null,
            "grid_column": null,
            "grid_gap": null,
            "grid_row": null,
            "grid_template_areas": null,
            "grid_template_columns": null,
            "grid_template_rows": null,
            "height": null,
            "justify_content": null,
            "justify_items": null,
            "left": null,
            "margin": null,
            "max_height": null,
            "max_width": null,
            "min_height": null,
            "min_width": null,
            "object_fit": null,
            "object_position": null,
            "order": null,
            "overflow": null,
            "overflow_x": null,
            "overflow_y": null,
            "padding": null,
            "right": null,
            "top": null,
            "visibility": null,
            "width": null
          }
        },
        "b4785a303b9745bd9537013a37c86bb1": {
          "model_module": "@jupyter-widgets/controls",
          "model_name": "ProgressStyleModel",
          "model_module_version": "1.5.0",
          "state": {
            "_model_module": "@jupyter-widgets/controls",
            "_model_module_version": "1.5.0",
            "_model_name": "ProgressStyleModel",
            "_view_count": null,
            "_view_module": "@jupyter-widgets/base",
            "_view_module_version": "1.2.0",
            "_view_name": "StyleView",
            "bar_color": null,
            "description_width": ""
          }
        },
        "250c154b9c8e425d84cbb4d07fd56531": {
          "model_module": "@jupyter-widgets/base",
          "model_name": "LayoutModel",
          "model_module_version": "1.2.0",
          "state": {
            "_model_module": "@jupyter-widgets/base",
            "_model_module_version": "1.2.0",
            "_model_name": "LayoutModel",
            "_view_count": null,
            "_view_module": "@jupyter-widgets/base",
            "_view_module_version": "1.2.0",
            "_view_name": "LayoutView",
            "align_content": null,
            "align_items": null,
            "align_self": null,
            "border": null,
            "bottom": null,
            "display": null,
            "flex": null,
            "flex_flow": null,
            "grid_area": null,
            "grid_auto_columns": null,
            "grid_auto_flow": null,
            "grid_auto_rows": null,
            "grid_column": null,
            "grid_gap": null,
            "grid_row": null,
            "grid_template_areas": null,
            "grid_template_columns": null,
            "grid_template_rows": null,
            "height": null,
            "justify_content": null,
            "justify_items": null,
            "left": null,
            "margin": null,
            "max_height": null,
            "max_width": null,
            "min_height": null,
            "min_width": null,
            "object_fit": null,
            "object_position": null,
            "order": null,
            "overflow": null,
            "overflow_x": null,
            "overflow_y": null,
            "padding": null,
            "right": null,
            "top": null,
            "visibility": null,
            "width": null
          }
        },
        "f5b74e9a9f8945d197332e193a412f72": {
          "model_module": "@jupyter-widgets/controls",
          "model_name": "DescriptionStyleModel",
          "model_module_version": "1.5.0",
          "state": {
            "_model_module": "@jupyter-widgets/controls",
            "_model_module_version": "1.5.0",
            "_model_name": "DescriptionStyleModel",
            "_view_count": null,
            "_view_module": "@jupyter-widgets/base",
            "_view_module_version": "1.2.0",
            "_view_name": "StyleView",
            "description_width": ""
          }
        }
      }
    }
  },
  "cells": [
    {
      "cell_type": "markdown",
      "source": [
        "# **Convolutional Layers**\n",
        "\n",
        "**Implementing Convolutional Layers With Keras**"
      ],
      "metadata": {
        "id": "OX7jOrPoDQvu"
      }
    },
    {
      "cell_type": "code",
      "execution_count": 5,
      "metadata": {
        "id": "rlZ9KPixDO7X"
      },
      "outputs": [],
      "source": [
        "import sys\n",
        "import sklearn\n",
        "import tensorflow as tf\n",
        "import matplotlib.pyplot as plt\n",
        "from sklearn.datasets import load_sample_images\n",
        "import numpy as np"
      ]
    },
    {
      "cell_type": "code",
      "source": [
        "\n",
        "mnist = tf.keras.datasets.fashion_mnist.load_data()\n",
        "(X_train_full, y_train_full), (X_test, y_test) = mnist\n",
        "X_train_full = np.expand_dims(X_train_full, axis=-1).astype(np.float32) / 255\n",
        "X_test = np.expand_dims(X_test.astype(np.float32), axis=-1) / 255\n",
        "X_train, X_valid = X_train_full[:-5000], X_train_full[-5000:]\n",
        "y_train, y_valid = y_train_full[:-5000], y_train_full[-5000:]"
      ],
      "metadata": {
        "id": "wOghs8fAG55_"
      },
      "execution_count": 6,
      "outputs": []
    },
    {
      "cell_type": "code",
      "source": [
        "\n",
        "\n",
        "from functools import partial\n",
        "\n",
        "tf.random.set_seed(42)  # extra code – ensures reproducibility\n",
        "DefaultConv2D = partial(tf.keras.layers.Conv2D, kernel_size=3, padding=\"same\",\n",
        "                        activation=\"relu\", kernel_initializer=\"he_normal\")\n",
        "model = tf.keras.Sequential([\n",
        "    DefaultConv2D(filters=64, kernel_size=7, input_shape=[28, 28, 1]),\n",
        "    tf.keras.layers.MaxPool2D(),\n",
        "    DefaultConv2D(filters=128),\n",
        "    DefaultConv2D(filters=128),\n",
        "    tf.keras.layers.MaxPool2D(),\n",
        "    DefaultConv2D(filters=256),\n",
        "    DefaultConv2D(filters=256),\n",
        "    tf.keras.layers.MaxPool2D(),\n",
        "    tf.keras.layers.Flatten(),\n",
        "    tf.keras.layers.Dense(units=128, activation=\"relu\",\n",
        "                          kernel_initializer=\"he_normal\"),\n",
        "    tf.keras.layers.Dropout(0.5),\n",
        "    tf.keras.layers.Dense(units=64, activation=\"relu\",\n",
        "                          kernel_initializer=\"he_normal\"),\n",
        "    tf.keras.layers.Dropout(0.5),\n",
        "    tf.keras.layers.Dense(units=10, activation=\"softmax\")\n",
        "])\n",
        "\n",
        "model.compile(loss=\"sparse_categorical_crossentropy\", optimizer=\"nadam\",\n",
        "              metrics=[\"accuracy\"])\n",
        "history = model.fit(X_train, y_train, epochs=10,\n",
        "                    validation_data=(X_valid, y_valid))\n",
        "score = model.evaluate(X_test, y_test)\n",
        "X_new = X_test[:10]  \n",
        "y_pred = model.predict(X_new)"
      ],
      "metadata": {
        "colab": {
          "base_uri": "https://localhost:8080/"
        },
        "id": "5J9vkk5sHTsd",
        "outputId": "eef2945e-a439-4014-c378-e818e13edadf"
      },
      "execution_count": 7,
      "outputs": [
        {
          "output_type": "stream",
          "name": "stdout",
          "text": [
            "Epoch 1/10\n",
            "1719/1719 [==============================] - 802s 464ms/step - loss: 0.7331 - accuracy: 0.7440 - val_loss: 0.3626 - val_accuracy: 0.8704\n",
            "Epoch 2/10\n",
            "1719/1719 [==============================] - 783s 456ms/step - loss: 0.4005 - accuracy: 0.8649 - val_loss: 0.2983 - val_accuracy: 0.8880\n",
            "Epoch 3/10\n",
            "1719/1719 [==============================] - 780s 454ms/step - loss: 0.3394 - accuracy: 0.8853 - val_loss: 0.3057 - val_accuracy: 0.8930\n",
            "Epoch 4/10\n",
            "1719/1719 [==============================] - 784s 456ms/step - loss: 0.3029 - accuracy: 0.8969 - val_loss: 0.2569 - val_accuracy: 0.9086\n",
            "Epoch 5/10\n",
            "1719/1719 [==============================] - 786s 457ms/step - loss: 0.2808 - accuracy: 0.9044 - val_loss: 0.2771 - val_accuracy: 0.9032\n",
            "Epoch 6/10\n",
            "1719/1719 [==============================] - 788s 458ms/step - loss: 0.2622 - accuracy: 0.9099 - val_loss: 0.2640 - val_accuracy: 0.9074\n",
            "Epoch 7/10\n",
            "1719/1719 [==============================] - 788s 458ms/step - loss: 0.2426 - accuracy: 0.9172 - val_loss: 0.2812 - val_accuracy: 0.9042\n",
            "Epoch 8/10\n",
            "1719/1719 [==============================] - 785s 457ms/step - loss: 0.2313 - accuracy: 0.9213 - val_loss: 0.2785 - val_accuracy: 0.9054\n",
            "Epoch 9/10\n",
            "1719/1719 [==============================] - 781s 454ms/step - loss: 0.2266 - accuracy: 0.9226 - val_loss: 0.2529 - val_accuracy: 0.9096\n",
            "Epoch 10/10\n",
            "1719/1719 [==============================] - 779s 453ms/step - loss: 0.2156 - accuracy: 0.9267 - val_loss: 0.2688 - val_accuracy: 0.9122\n",
            "313/313 [==============================] - 35s 111ms/step - loss: 0.2871 - accuracy: 0.9089\n",
            "1/1 [==============================] - 0s 185ms/step\n"
          ]
        }
      ]
    },
    {
      "cell_type": "markdown",
      "source": [
        "# **Implementing a ResNet-34 CNN Using Keras**"
      ],
      "metadata": {
        "id": "-rchw6OUHjV3"
      }
    },
    {
      "cell_type": "code",
      "source": [
        "DefaultConv2D = partial(tf.keras.layers.Conv2D, kernel_size=3, strides=1,\n",
        "                        padding=\"same\", kernel_initializer=\"he_normal\",\n",
        "                        use_bias=False)\n",
        "\n",
        "class ResidualUnit(tf.keras.layers.Layer):\n",
        "    def __init__(self, filters, strides=1, activation=\"relu\", **kwargs):\n",
        "        super().__init__(**kwargs)\n",
        "        self.activation = tf.keras.activations.get(activation)\n",
        "        self.main_layers = [\n",
        "            DefaultConv2D(filters, strides=strides),\n",
        "            tf.keras.layers.BatchNormalization(),\n",
        "            self.activation,\n",
        "            DefaultConv2D(filters),\n",
        "            tf.keras.layers.BatchNormalization()\n",
        "        ]\n",
        "        self.skip_layers = []\n",
        "        if strides > 1:\n",
        "            self.skip_layers = [\n",
        "                DefaultConv2D(filters, kernel_size=1, strides=strides),\n",
        "                tf.keras.layers.BatchNormalization()\n",
        "            ]\n",
        "\n",
        "    def call(self, inputs):\n",
        "        Z = inputs\n",
        "        for layer in self.main_layers:\n",
        "            Z = layer(Z)\n",
        "        skip_Z = inputs\n",
        "        for layer in self.skip_layers:\n",
        "            skip_Z = layer(skip_Z)\n",
        "        return self.activation(Z + skip_Z)\n",
        "\n",
        "model = tf.keras.Sequential([\n",
        "    DefaultConv2D(64, kernel_size=7, strides=2, input_shape=[224, 224, 3]),\n",
        "    tf.keras.layers.BatchNormalization(),\n",
        "    tf.keras.layers.Activation(\"relu\"),\n",
        "    tf.keras.layers.MaxPool2D(pool_size=3, strides=2, padding=\"same\"),\n",
        "])\n",
        "prev_filters = 64\n",
        "for filters in [64] * 3 + [128] * 4 + [256] * 6 + [512] * 3:\n",
        "    strides = 1 if filters == prev_filters else 2\n",
        "    model.add(ResidualUnit(filters, strides=strides))\n",
        "    prev_filters = filters\n",
        "\n",
        "model.add(tf.keras.layers.GlobalAvgPool2D())\n",
        "model.add(tf.keras.layers.Flatten())\n",
        "model.add(tf.keras.layers.Dense(10, activation=\"softmax\"))\n",
        "\n"
      ],
      "metadata": {
        "id": "2x9HcZUvHa8p"
      },
      "execution_count": 8,
      "outputs": []
    },
    {
      "cell_type": "markdown",
      "source": [
        "# **Using Pretrained Models from Keras**"
      ],
      "metadata": {
        "id": "hl1-IPPsIap3"
      }
    },
    {
      "cell_type": "code",
      "source": [
        "\n",
        "\n",
        "model = tf.keras.applications.ResNet50(weights=\"imagenet\")\n",
        "images = load_sample_images()[\"images\"]\n",
        "images_resized = tf.keras.layers.Resizing(height=224, width=224,\n",
        "                                          crop_to_aspect_ratio=True)(images)\n",
        "\n",
        "inputs = tf.keras.applications.resnet50.preprocess_input(images_resized)\n",
        "\n",
        "Y_proba = model.predict(inputs)\n",
        "Y_proba.shape\n",
        "\n"
      ],
      "metadata": {
        "colab": {
          "base_uri": "https://localhost:8080/"
        },
        "id": "vJSeWVYCInKk",
        "outputId": "5e0b5dae-0cbd-4175-887e-bcd3dcc7ee67"
      },
      "execution_count": 9,
      "outputs": [
        {
          "output_type": "stream",
          "name": "stdout",
          "text": [
            "Downloading data from https://storage.googleapis.com/tensorflow/keras-applications/resnet/resnet50_weights_tf_dim_ordering_tf_kernels.h5\n",
            "102967424/102967424 [==============================] - 1s 0us/step\n",
            "1/1 [==============================] - 1s 1s/step\n"
          ]
        },
        {
          "output_type": "execute_result",
          "data": {
            "text/plain": [
              "(2, 1000)"
            ]
          },
          "metadata": {},
          "execution_count": 9
        }
      ]
    },
    {
      "cell_type": "markdown",
      "source": [
        "# **Pretrained Models for Transfer Learning**"
      ],
      "metadata": {
        "id": "91-7MIGnJUl3"
      }
    },
    {
      "cell_type": "code",
      "source": [
        "import tensorflow_datasets as tfds\n",
        "\n",
        "dataset, info = tfds.load(\"tf_flowers\", as_supervised=True, with_info=True)\n",
        "dataset_size = info.splits[\"train\"].num_examples\n",
        "class_names = info.features[\"label\"].names\n",
        "n_classes = info.features[\"label\"].num_classes"
      ],
      "metadata": {
        "colab": {
          "base_uri": "https://localhost:8080/",
          "height": 84,
          "referenced_widgets": [
            "65241a5f9b46437c8bd22bb538a1183e",
            "7fb310c84425451794c624129f22f36b",
            "b64376edc793491eb1acdad389a91741",
            "32b7578771544e0e9dfaad82827ce87e",
            "ba63c47cd4b742dba24a8968881210c8",
            "4e9ac32fba384fa19a9826256461a336",
            "c56e264ff3224f67baa0c9d6ee22f885",
            "51fa8387bf51441cba2808b5b739470b",
            "b4785a303b9745bd9537013a37c86bb1",
            "250c154b9c8e425d84cbb4d07fd56531",
            "f5b74e9a9f8945d197332e193a412f72"
          ]
        },
        "id": "yx7rT68gJWIK",
        "outputId": "98022484-563a-4dbf-fe4b-a73e5256bc3e"
      },
      "execution_count": 10,
      "outputs": [
        {
          "output_type": "stream",
          "name": "stdout",
          "text": [
            "Downloading and preparing dataset 218.21 MiB (download: 218.21 MiB, generated: 221.83 MiB, total: 440.05 MiB) to /root/tensorflow_datasets/tf_flowers/3.0.1...\n"
          ]
        },
        {
          "output_type": "display_data",
          "data": {
            "text/plain": [
              "Dl Completed...:   0%|          | 0/5 [00:00<?, ? file/s]"
            ],
            "application/vnd.jupyter.widget-view+json": {
              "version_major": 2,
              "version_minor": 0,
              "model_id": "65241a5f9b46437c8bd22bb538a1183e"
            }
          },
          "metadata": {}
        },
        {
          "output_type": "stream",
          "name": "stdout",
          "text": [
            "Dataset tf_flowers downloaded and prepared to /root/tensorflow_datasets/tf_flowers/3.0.1. Subsequent calls will reuse this data.\n"
          ]
        }
      ]
    },
    {
      "cell_type": "code",
      "source": [
        "test_set_raw, valid_set_raw, train_set_raw = tfds.load(\n",
        "    \"tf_flowers\",\n",
        "    split=[\"train[:10%]\", \"train[10%:25%]\", \"train[25%:]\"],\n",
        "    as_supervised=True)"
      ],
      "metadata": {
        "id": "xtTE3RvZJabc"
      },
      "execution_count": 11,
      "outputs": []
    },
    {
      "cell_type": "code",
      "source": [
        "tf.keras.backend.clear_session()\n",
        "batch_size = 32\n",
        "preprocess = tf.keras.Sequential([\n",
        "    tf.keras.layers.Resizing(height=224, width=224, crop_to_aspect_ratio=True),\n",
        "    tf.keras.layers.Lambda(tf.keras.applications.xception.preprocess_input)\n",
        "])\n",
        "train_set = train_set_raw.map(lambda X, y: (preprocess(X), y))\n",
        "train_set = train_set.shuffle(1000, seed=42).batch(batch_size).prefetch(1)\n",
        "valid_set = valid_set_raw.map(lambda X, y: (preprocess(X), y)).batch(batch_size)\n",
        "test_set = test_set_raw.map(lambda X, y: (preprocess(X), y)).batch(batch_size)"
      ],
      "metadata": {
        "id": "yJBb17jHJd_9"
      },
      "execution_count": 12,
      "outputs": []
    },
    {
      "cell_type": "code",
      "source": [
        "data_augmentation = tf.keras.Sequential([\n",
        "    tf.keras.layers.RandomFlip(mode=\"horizontal\", seed=42),\n",
        "    tf.keras.layers.RandomRotation(factor=0.05, seed=42),\n",
        "    tf.keras.layers.RandomContrast(factor=0.2, seed=42)\n",
        "])"
      ],
      "metadata": {
        "id": "lZ5SxlSPJrNJ"
      },
      "execution_count": 13,
      "outputs": []
    },
    {
      "cell_type": "code",
      "source": [
        "tf.random.set_seed(42)  # extra code – ensures reproducibility\n",
        "base_model = tf.keras.applications.xception.Xception(weights=\"imagenet\",\n",
        "                                                     include_top=False)\n",
        "avg = tf.keras.layers.GlobalAveragePooling2D()(base_model.output)\n",
        "output = tf.keras.layers.Dense(n_classes, activation=\"softmax\")(avg)\n",
        "model = tf.keras.Model(inputs=base_model.input, outputs=output)\n",
        "for layer in base_model.layers:\n",
        "    layer.trainable = False\n",
        "optimizer = tf.keras.optimizers.SGD(learning_rate=0.1, momentum=0.9)\n",
        "model.compile(loss=\"sparse_categorical_crossentropy\", optimizer=optimizer,\n",
        "              metrics=[\"accuracy\"])\n",
        "history = model.fit(train_set, validation_data=valid_set, epochs=3)\n"
      ],
      "metadata": {
        "colab": {
          "base_uri": "https://localhost:8080/"
        },
        "id": "K3TGyT0rJtNd",
        "outputId": "9ab408e8-3c12-4bee-f1b0-5fd27e5a4bb3"
      },
      "execution_count": 14,
      "outputs": [
        {
          "output_type": "stream",
          "name": "stdout",
          "text": [
            "Downloading data from https://storage.googleapis.com/tensorflow/keras-applications/xception/xception_weights_tf_dim_ordering_tf_kernels_notop.h5\n",
            "83683744/83683744 [==============================] - 1s 0us/step\n",
            "Epoch 1/3\n",
            "86/86 [==============================] - 597s 7s/step - loss: 0.7492 - accuracy: 0.8052 - val_loss: 0.6932 - val_accuracy: 0.8421\n",
            "Epoch 2/3\n",
            "86/86 [==============================] - 589s 7s/step - loss: 0.3207 - accuracy: 0.9084 - val_loss: 0.6522 - val_accuracy: 0.8312\n",
            "Epoch 3/3\n",
            "86/86 [==============================] - 602s 7s/step - loss: 0.1766 - accuracy: 0.9415 - val_loss: 0.7004 - val_accuracy: 0.8475\n"
          ]
        }
      ]
    },
    {
      "cell_type": "code",
      "source": [
        "\n",
        "\n",
        "for indices in zip(range(33), range(33, 66), range(66, 99), range(99, 132)):\n",
        "    for idx in indices:\n",
        "        print(f\"{idx:3}: {base_model.layers[idx].name:22}\", end=\"\")\n",
        "    print()\n",
        "\n"
      ],
      "metadata": {
        "colab": {
          "base_uri": "https://localhost:8080/"
        },
        "id": "pP9gapokMQWM",
        "outputId": "b8db2853-7d22-4652-f622-ddaa3a5287a1"
      },
      "execution_count": 15,
      "outputs": [
        {
          "output_type": "stream",
          "name": "stdout",
          "text": [
            "  0: input_1                33: block4_pool            66: block8_sepconv1_act    99: block11_sepconv2_act  \n",
            "  1: block1_conv1           34: batch_normalization_2  67: block8_sepconv1       100: block11_sepconv2      \n",
            "  2: block1_conv1_bn        35: add_2                  68: block8_sepconv1_bn    101: block11_sepconv2_bn   \n",
            "  3: block1_conv1_act       36: block5_sepconv1_act    69: block8_sepconv2_act   102: block11_sepconv3_act  \n",
            "  4: block1_conv2           37: block5_sepconv1        70: block8_sepconv2       103: block11_sepconv3      \n",
            "  5: block1_conv2_bn        38: block5_sepconv1_bn     71: block8_sepconv2_bn    104: block11_sepconv3_bn   \n",
            "  6: block1_conv2_act       39: block5_sepconv2_act    72: block8_sepconv3_act   105: add_9                 \n",
            "  7: block2_sepconv1        40: block5_sepconv2        73: block8_sepconv3       106: block12_sepconv1_act  \n",
            "  8: block2_sepconv1_bn     41: block5_sepconv2_bn     74: block8_sepconv3_bn    107: block12_sepconv1      \n",
            "  9: block2_sepconv2_act    42: block5_sepconv3_act    75: add_6                 108: block12_sepconv1_bn   \n",
            " 10: block2_sepconv2        43: block5_sepconv3        76: block9_sepconv1_act   109: block12_sepconv2_act  \n",
            " 11: block2_sepconv2_bn     44: block5_sepconv3_bn     77: block9_sepconv1       110: block12_sepconv2      \n",
            " 12: conv2d                 45: add_3                  78: block9_sepconv1_bn    111: block12_sepconv2_bn   \n",
            " 13: block2_pool            46: block6_sepconv1_act    79: block9_sepconv2_act   112: block12_sepconv3_act  \n",
            " 14: batch_normalization    47: block6_sepconv1        80: block9_sepconv2       113: block12_sepconv3      \n",
            " 15: add                    48: block6_sepconv1_bn     81: block9_sepconv2_bn    114: block12_sepconv3_bn   \n",
            " 16: block3_sepconv1_act    49: block6_sepconv2_act    82: block9_sepconv3_act   115: add_10                \n",
            " 17: block3_sepconv1        50: block6_sepconv2        83: block9_sepconv3       116: block13_sepconv1_act  \n",
            " 18: block3_sepconv1_bn     51: block6_sepconv2_bn     84: block9_sepconv3_bn    117: block13_sepconv1      \n",
            " 19: block3_sepconv2_act    52: block6_sepconv3_act    85: add_7                 118: block13_sepconv1_bn   \n",
            " 20: block3_sepconv2        53: block6_sepconv3        86: block10_sepconv1_act  119: block13_sepconv2_act  \n",
            " 21: block3_sepconv2_bn     54: block6_sepconv3_bn     87: block10_sepconv1      120: block13_sepconv2      \n",
            " 22: conv2d_1               55: add_4                  88: block10_sepconv1_bn   121: block13_sepconv2_bn   \n",
            " 23: block3_pool            56: block7_sepconv1_act    89: block10_sepconv2_act  122: conv2d_3              \n",
            " 24: batch_normalization_1  57: block7_sepconv1        90: block10_sepconv2      123: block13_pool          \n",
            " 25: add_1                  58: block7_sepconv1_bn     91: block10_sepconv2_bn   124: batch_normalization_3 \n",
            " 26: block4_sepconv1_act    59: block7_sepconv2_act    92: block10_sepconv3_act  125: add_11                \n",
            " 27: block4_sepconv1        60: block7_sepconv2        93: block10_sepconv3      126: block14_sepconv1      \n",
            " 28: block4_sepconv1_bn     61: block7_sepconv2_bn     94: block10_sepconv3_bn   127: block14_sepconv1_bn   \n",
            " 29: block4_sepconv2_act    62: block7_sepconv3_act    95: add_8                 128: block14_sepconv1_act  \n",
            " 30: block4_sepconv2        63: block7_sepconv3        96: block11_sepconv1_act  129: block14_sepconv2      \n",
            " 31: block4_sepconv2_bn     64: block7_sepconv3_bn     97: block11_sepconv1      130: block14_sepconv2_bn   \n",
            " 32: conv2d_2               65: add_5                  98: block11_sepconv1_bn   131: block14_sepconv2_act  \n"
          ]
        }
      ]
    },
    {
      "cell_type": "code",
      "source": [
        "for layer in base_model.layers[56:]:\n",
        "    layer.trainable = True\n",
        "\n",
        "optimizer = tf.keras.optimizers.SGD(learning_rate=0.01, momentum=0.9)\n",
        "model.compile(loss=\"sparse_categorical_crossentropy\", optimizer=optimizer,\n",
        "              metrics=[\"accuracy\"])\n",
        "history = model.fit(train_set, validation_data=valid_set, epochs=10)"
      ],
      "metadata": {
        "colab": {
          "base_uri": "https://localhost:8080/"
        },
        "id": "AgemxeNDMS2X",
        "outputId": "63196584-abc1-40b9-dff4-3a05bee0a4d3"
      },
      "execution_count": 16,
      "outputs": [
        {
          "output_type": "stream",
          "name": "stdout",
          "text": [
            "Epoch 1/10\n",
            "86/86 [==============================] - 1432s 17s/step - loss: 0.2924 - accuracy: 0.9110 - val_loss: 0.4494 - val_accuracy: 0.8784\n",
            "Epoch 2/10\n",
            "86/86 [==============================] - 1381s 16s/step - loss: 0.0394 - accuracy: 0.9884 - val_loss: 0.3641 - val_accuracy: 0.9074\n",
            "Epoch 3/10\n",
            "86/86 [==============================] - 1437s 17s/step - loss: 0.0149 - accuracy: 0.9945 - val_loss: 0.3634 - val_accuracy: 0.9038\n",
            "Epoch 4/10\n",
            "86/86 [==============================] - 1399s 16s/step - loss: 0.0120 - accuracy: 0.9967 - val_loss: 0.3296 - val_accuracy: 0.9020\n",
            "Epoch 5/10\n",
            "86/86 [==============================] - 1385s 16s/step - loss: 0.0066 - accuracy: 0.9978 - val_loss: 0.3625 - val_accuracy: 0.9020\n",
            "Epoch 6/10\n",
            "86/86 [==============================] - 1376s 16s/step - loss: 0.0032 - accuracy: 0.9985 - val_loss: 0.3530 - val_accuracy: 0.9056\n",
            "Epoch 7/10\n",
            "86/86 [==============================] - 1378s 16s/step - loss: 0.0029 - accuracy: 0.9993 - val_loss: 0.3576 - val_accuracy: 0.9056\n",
            "Epoch 8/10\n",
            "86/86 [==============================] - 1373s 16s/step - loss: 0.0052 - accuracy: 0.9978 - val_loss: 0.3844 - val_accuracy: 0.8984\n",
            "Epoch 9/10\n",
            "86/86 [==============================] - 1367s 16s/step - loss: 0.0057 - accuracy: 0.9985 - val_loss: 0.3647 - val_accuracy: 0.9074\n",
            "Epoch 10/10\n",
            "86/86 [==============================] - 1419s 17s/step - loss: 0.0024 - accuracy: 0.9993 - val_loss: 0.3763 - val_accuracy: 0.9056\n"
          ]
        }
      ]
    }
  ]
}